{
 "cells": [
  {
   "cell_type": "markdown",
   "id": "5f436828",
   "metadata": {},
   "source": [
    "# Differential Expression Analysis\n",
    "## PCA visualisation"
   ]
  },
  {
   "cell_type": "code",
   "execution_count": null,
   "id": "550f129a",
   "metadata": {},
   "outputs": [],
   "source": [
    "# Import necessary Python libraries\n",
    "\n",
    "# Data analysis\n",
    "import numpy as np\n",
    "import pandas as pd\n",
    "\n",
    "from sklearn.preprocessing import StandardScaler\n",
    "from sklearn.decomposition import PCA\n",
    "\n",
    "# Graphics and plotting\n",
    "import matplotlib.pyplot as plt\n",
    "%matplotlib inline\n",
    "\n",
    "#import seaborn as sns"
   ]
  },
  {
   "cell_type": "code",
   "execution_count": null,
   "id": "7ae6f8dc",
   "metadata": {},
   "outputs": [],
   "source": [
    "# Reading in data from tsv file (the \"Feature ID\" column will be used as id)\n",
    "\n",
    "filename = '../data/Merged_differential_expression_results.tsv'\n",
    "\n",
    "#dex = pd.read_csv(filename, index_col=0, sep='\\t')\n",
    "dex = pd.read_csv(filename, dtype={'entrezgene': str}, sep='\\t')"
   ]
  },
  {
   "cell_type": "code",
   "execution_count": null,
   "id": "b33fa3e1",
   "metadata": {},
   "outputs": [],
   "source": [
    "# Separate the columns into strings (all gene names, descriptions, ...) and numeric (gene expressions, fold changes, and quality metrics)\n",
    "all_cols = list(dex.columns)\n",
    "descr_cols = ['Feature_ID', 'entrezgene', 'external_gene_name', 'gene_biotype', 'external_gene_source', 'description']\n",
    "numeric_cols = [x for x in all_cols if x not in set(descr_cols)]\n",
    "\n",
    "# The select samples, fold metrics\n",
    "sample_cols = [x for x in numeric_cols if 'sample' in x]\n",
    "linfold_cols = [x for x in numeric_cols if 'linearFC' in x]\n",
    "logfold_cols = [x for x in numeric_cols if 'logFC' in x]\n",
    "\n",
    "control_3h_cols = ['sample.'+str(x) for x in range(1,5)]\n",
    "control_12h_cols = ['sample.'+str(x) for x in range(5,9)]\n",
    "CC_3h_cols = ['sample.'+str(x) for x in range(9,13)]\n",
    "CC_12h_cols = ['sample.'+str(x) for x in range(13,17)]\n",
    "BL21_3h_cols = ['sample.'+str(x) for x in range(17,21)]\n",
    "BL21_3h_bcols = ['sample.'+str(x) for x in range(21,25)]\n",
    "LPS_3h_cols = ['sample.'+str(x) for x in range(25,29)]\n",
    "LPS_21h_cols = ['sample.'+str(x) for x in range(29,33)]\n",
    "\n",
    "# Associate fold column name with p-value column name\n",
    "adj_p_value_columns = {\n",
    "    'BL21_12hr-BL21_3hr_logFC': 'BL21_12hr-BL21_3hr_adj.P.Val',\n",
    "    'BL21_12hr-control_12hr_logFC': 'BL21_12hr-BL21_3hr_adj.P.Val',\n",
    "    'BL21_3hr-control_3hr_logFC': 'BL21_3hr-control_3hr_adj.P.Val',\n",
    "    'CC_12hr-CC_3hr_logFC': 'CC_12hr-CC_3hr_adj.P.Val',\n",
    "    'CC_12hr-control_12hr_logFC':'CC_12hr-control_12hr_adj.P.Val',\n",
    "    'CC_3hr-control_3hr_logFC':'CC_3hr-control_3hr_adj.P.Val',\n",
    "    'control_12hr-control_3hr_logFC':'control_12hr-control_3hr_adj.P.Val',\n",
    "    'LPS_12hr-control_12hr_logFC':'LPS_12hr-control_12hr_adj.P.Val',\n",
    "    'LPS_12hr-LPS_3hr_logFC':'LPS_12hr-LPS_3hr_adj.P.Val',\n",
    "    'LPS_3hr-control_3hr_logFC':'LPS_3hr-control_3hr_adj.P.Val'\n",
    "}"
   ]
  },
  {
   "cell_type": "code",
   "execution_count": null,
   "id": "3412e30f",
   "metadata": {},
   "outputs": [],
   "source": [
    "data = dex[sample_cols]"
   ]
  },
  {
   "cell_type": "code",
   "execution_count": null,
   "id": "61c8c4a2",
   "metadata": {},
   "outputs": [],
   "source": [
    "# PCA\n",
    "# Separating out the features\n",
    "x = data.loc[:, sample_cols].values\n",
    "# Separating out the target\n",
    "y = df.loc[:,['target']].values\n",
    "# Standardizing the features\n",
    "x = StandardScaler().fit_transform(x)"
   ]
  },
  {
   "cell_type": "code",
   "execution_count": null,
   "id": "7d42232b",
   "metadata": {},
   "outputs": [],
   "source": [
    "# Graphics and plotting\n",
    "import matplotlib.pyplot as plt\n",
    "\n",
    "import pandas as pd\n",
    "\n",
    "\n",
    "url = \"https://archive.ics.uci.edu/ml/machine-learning-databases/iris/iris.data\"\n",
    "# load dataset into Pandas DataFrame\n",
    "df = pd.read_csv(url, names=['sepal length','sepal width','petal length','petal width','target'])"
   ]
  },
  {
   "cell_type": "code",
   "execution_count": null,
   "id": "d32427c7",
   "metadata": {},
   "outputs": [],
   "source": [
    "from sklearn.preprocessing import StandardScaler"
   ]
  },
  {
   "cell_type": "code",
   "execution_count": null,
   "id": "d2b40276",
   "metadata": {},
   "outputs": [],
   "source": [
    "features = ['sepal length', 'sepal width', 'petal length', 'petal width']\n",
    "# Separating out the features\n",
    "x = df.loc[:, features].values\n",
    "# Separating out the target\n",
    "y = df.loc[:,['target']].values\n",
    "# Standardizing the features\n",
    "x = StandardScaler().fit_transform(x)"
   ]
  },
  {
   "cell_type": "code",
   "execution_count": null,
   "id": "535f95e0",
   "metadata": {},
   "outputs": [],
   "source": [
    "from sklearn.decomposition import PCA\n",
    "pca = PCA(n_components=2)\n",
    "principalComponents = pca.fit_transform(x)\n",
    "principalDf = pd.DataFrame(data = principalComponents\n",
    "             , columns = ['principal component 1', 'principal component 2'])"
   ]
  },
  {
   "cell_type": "code",
   "execution_count": null,
   "id": "4d23fceb",
   "metadata": {},
   "outputs": [],
   "source": [
    "finalDf = pd.concat([principalDf, df[['target']]], axis = 1)"
   ]
  },
  {
   "cell_type": "code",
   "execution_count": null,
   "id": "01b5276c",
   "metadata": {},
   "outputs": [],
   "source": [
    "fig = plt.figure(figsize = (8,8))\n",
    "ax = fig.add_subplot(1,1,1) \n",
    "ax.set_xlabel('Principal Component 1', fontsize = 15)\n",
    "ax.set_ylabel('Principal Component 2', fontsize = 15)\n",
    "ax.set_title('2 component PCA', fontsize = 20)\n",
    "targets = ['Iris-setosa', 'Iris-versicolor', 'Iris-virginica']\n",
    "colors = ['r', 'g', 'b']\n",
    "for target, color in zip(targets,colors):\n",
    "    indicesToKeep = finalDf['target'] == target\n",
    "    ax.scatter(finalDf.loc[indicesToKeep, 'principal component 1']\n",
    "               , finalDf.loc[indicesToKeep, 'principal component 2']\n",
    "               , c = color\n",
    "               , s = 50)\n",
    "ax.legend(targets)\n",
    "ax.grid()"
   ]
  },
  {
   "cell_type": "code",
   "execution_count": null,
   "id": "1852148d",
   "metadata": {},
   "outputs": [],
   "source": []
  }
 ],
 "metadata": {
  "kernelspec": {
   "display_name": "Python 3 (ipykernel)",
   "language": "python",
   "name": "python3"
  },
  "language_info": {
   "codemirror_mode": {
    "name": "ipython",
    "version": 3
   },
   "file_extension": ".py",
   "mimetype": "text/x-python",
   "name": "python",
   "nbconvert_exporter": "python",
   "pygments_lexer": "ipython3",
   "version": "3.9.6"
  }
 },
 "nbformat": 4,
 "nbformat_minor": 5
}
