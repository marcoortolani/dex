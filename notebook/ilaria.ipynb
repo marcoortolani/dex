{
 "cells": [
  {
   "cell_type": "code",
   "execution_count": 1,
   "id": "c7a57e69",
   "metadata": {},
   "outputs": [
    {
     "ename": "ModuleNotFoundError",
     "evalue": "No module named 'numpy'",
     "output_type": "error",
     "traceback": [
      "\u001b[0;31m---------------------------------------------------------------------------\u001b[0m",
      "\u001b[0;31mModuleNotFoundError\u001b[0m                       Traceback (most recent call last)",
      "\u001b[0;32m/var/folders/9_/9p2hyb0j4mg509l8lhprk_880000gn/T/ipykernel_11661/1392574185.py\u001b[0m in \u001b[0;36m<module>\u001b[0;34m\u001b[0m\n\u001b[1;32m      2\u001b[0m \u001b[0;34m\u001b[0m\u001b[0m\n\u001b[1;32m      3\u001b[0m \u001b[0;31m# Data analysis\u001b[0m\u001b[0;34m\u001b[0m\u001b[0;34m\u001b[0m\u001b[0;34m\u001b[0m\u001b[0m\n\u001b[0;32m----> 4\u001b[0;31m \u001b[0;32mimport\u001b[0m \u001b[0mnumpy\u001b[0m \u001b[0;32mas\u001b[0m \u001b[0mnp\u001b[0m\u001b[0;34m\u001b[0m\u001b[0;34m\u001b[0m\u001b[0m\n\u001b[0m\u001b[1;32m      5\u001b[0m \u001b[0;32mimport\u001b[0m \u001b[0mpandas\u001b[0m \u001b[0;32mas\u001b[0m \u001b[0mpd\u001b[0m\u001b[0;34m\u001b[0m\u001b[0;34m\u001b[0m\u001b[0m\n\u001b[1;32m      6\u001b[0m \u001b[0;34m\u001b[0m\u001b[0m\n",
      "\u001b[0;31mModuleNotFoundError\u001b[0m: No module named 'numpy'"
     ]
    }
   ],
   "source": [
    "# Import necessary Python libraries\n",
    "\n",
    "# Data analysis\n",
    "import numpy as np\n",
    "import pandas as pd\n",
    "\n",
    "# Bioinformatics\n",
    "import gseapy as gp\n",
    "\n",
    "# Graphics and plotting\n",
    "import matplotlib.pyplot as plt\n",
    "%matplotlib inline\n",
    "%config InlineBackend.figure_format='retina' # mac\n",
    "%load_ext autoreload\n",
    "%autoreload 2\n",
    "\n",
    "#import seaborn as sns"
   ]
  },
  {
   "cell_type": "code",
   "execution_count": null,
   "id": "60bd008a",
   "metadata": {},
   "outputs": [],
   "source": [
    "# Reading in data from tsv file (the \"Feature ID\" column will be used as id)\n",
    "\n",
    "filename = '../data/Merged_differential_expression_results.tsv'\n",
    "\n",
    "dex = pd.read_csv(filename, index_col=0, sep='\\t')"
   ]
  },
  {
   "cell_type": "code",
   "execution_count": null,
   "id": "04044167",
   "metadata": {},
   "outputs": [],
   "source": [
    "# Name all sample columns separately\n",
    "control_3h_cols = ['sample.'+str(x) for x in range(1,5)]\n",
    "control_12h_cols = ['sample.'+str(x) for x in range(5,9)]\n",
    "CC_3h_cols = ['sample.'+str(x) for x in range(9,13)]\n",
    "CC_12h_cols = ['sample.'+str(x) for x in range(13,17)]\n",
    "BL21_3h_cols = ['sample.'+str(x) for x in range(17,21)]\n",
    "BL21_12h_cols = ['sample.'+str(x) for x in range(21,25)]\n",
    "LPS_3h_cols = ['sample.'+str(x) for x in range(25,29)]\n",
    "LPS_12h_cols = ['sample.'+str(x) for x in range(29,33)]"
   ]
  },
  {
   "cell_type": "code",
   "execution_count": null,
   "id": "4e9e8328",
   "metadata": {},
   "outputs": [],
   "source": [
    "data= pd.DataFrame(index=dex.index)\n",
    "\n",
    "sel = dex[control_3h_cols]\n",
    "data['control_3h'] = sel.mean(axis=1)\n",
    "data['stddev'] = sel.std(axis=1)\n",
    "# sel = dex[control_12h_cols]\n",
    "# data['control_12h'] = sel.mean(axis=1)\n",
    "# sel = dex[CC_3h_cols]\n",
    "# data['CC_3h'] = sel.mean(axis=1)\n",
    "# sel = dex[CC_12h_cols]\n",
    "# data['CC_12h'] = sel.mean(axis=1)\n",
    "# sel = dex[BL21_3h_cols]\n",
    "# data['BL21_3h'] = sel.mean(axis=1)\n",
    "# sel = dex[BL21_12h_cols]\n",
    "# data['BL21_12h'] = sel.mean(axis=1)\n",
    "# sel = dex[LPS_3h_cols]\n",
    "# data['LPS_3h'] = sel.mean(axis=1)\n",
    "# sel = dex[LPS_12h_cols]\n",
    "# data['LPS_12h'] = sel.mean(axis=1)"
   ]
  },
  {
   "cell_type": "code",
   "execution_count": null,
   "id": "78054c6f",
   "metadata": {
    "scrolled": true
   },
   "outputs": [],
   "source": [
    "data1 = dex[control_3h_cols]\n",
    "data2 = dex[control_12h_cols]\n",
    "\n",
    "sns.boxplot(data=data1)\n",
    "plt.show()"
   ]
  },
  {
   "cell_type": "code",
   "execution_count": null,
   "id": "9e3e5b43",
   "metadata": {},
   "outputs": [],
   "source": [
    "FC = data['BL21_12h']/data['BL21_3h']"
   ]
  },
  {
   "cell_type": "code",
   "execution_count": null,
   "id": "c4b685be",
   "metadata": {},
   "outputs": [],
   "source": [
    "FC"
   ]
  },
  {
   "cell_type": "code",
   "execution_count": null,
   "id": "f4e27301",
   "metadata": {},
   "outputs": [],
   "source": []
  }
 ],
 "metadata": {
  "kernelspec": {
   "display_name": "Python 3 (ipykernel)",
   "language": "python",
   "name": "python3"
  },
  "language_info": {
   "codemirror_mode": {
    "name": "ipython",
    "version": 3
   },
   "file_extension": ".py",
   "mimetype": "text/x-python",
   "name": "python",
   "nbconvert_exporter": "python",
   "pygments_lexer": "ipython3",
   "version": "3.9.6"
  }
 },
 "nbformat": 4,
 "nbformat_minor": 5
}
