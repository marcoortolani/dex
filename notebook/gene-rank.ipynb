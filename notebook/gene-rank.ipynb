{
 "cells": [
  {
   "cell_type": "markdown",
   "id": "b11f4c50",
   "metadata": {},
   "source": [
    "# Differential Expression Analysis\n",
    "\n",
    "This notebook is a first attempt to automate differential gene expression analysis with Python. \n",
    "\n",
    "Gene expression data are read from the .tsv file and imported into Python data structures so that we can select \"interesting\" genes to submit to Enrichr for enrichment analysis.\n",
    "\n",
    "We'll follow these steps:\n",
    "1. Filter the most significant genes (p<0.01)\n",
    "2. Filter Log2FC (Less and equal to -1 or Great and equal to 1P)\n",
    "3. Clean up data and maintain only Entrez and Ensemble ID, Log2 FC, p.value cols\n",
    "4. Rank the genes (largest to  smallest using Log2FC)\n",
    "5. Past results on Enrichr"
   ]
  },
  {
   "cell_type": "code",
   "execution_count": 1,
   "id": "817a4e32",
   "metadata": {},
   "outputs": [],
   "source": [
    "# Import necessary Python libraries\n",
    "\n",
    "# Data analysis\n",
    "import numpy as np\n",
    "import pandas as pd\n",
    "\n",
    "# Bioinformatics\n",
    "import gseapy as gp\n",
    "\n",
    "# Graphics and plotting\n",
    "import matplotlib.pyplot as plt\n",
    "%matplotlib inline\n",
    "%config InlineBackend.figure_format='retina' # mac\n",
    "%load_ext autoreload\n",
    "%autoreload 2\n",
    "\n",
    "#import seaborn as sns"
   ]
  },
  {
   "cell_type": "markdown",
   "id": "64a44437",
   "metadata": {},
   "source": [
    "## Data preparation"
   ]
  },
  {
   "cell_type": "code",
   "execution_count": 2,
   "id": "96b32700",
   "metadata": {},
   "outputs": [],
   "source": [
    "# Reading in data from tsv file (the \"Feature ID\" column will be used as id)\n",
    "\n",
    "filename = '../data/Merged_differential_expression_results.tsv'\n",
    "\n",
    "dex = pd.read_csv(filename, index_col=0, sep='\\t')"
   ]
  },
  {
   "cell_type": "code",
   "execution_count": 3,
   "id": "2106e7bb",
   "metadata": {},
   "outputs": [],
   "source": [
    "# Separate the columns into strings (all gene names, descriptions, ...) and numeric (gene expressions, fold changes, and quality metrics)\n",
    "all_cols = list(dex.columns)\n",
    "descr_cols = ['Feature_ID', 'entrezgene', 'external_gene_name', 'gene_biotype', 'external_gene_source', 'description']\n",
    "numeric_cols = [x for x in all_cols if x not in set(descr_cols)]\n",
    "\n",
    "# The select samples, fold metrics\n",
    "sample_cols = [x for x in numeric_cols if 'sample' in x]\n",
    "linfold_cols = [x for x in numeric_cols if 'linearFC' in x]\n",
    "logfold_cols = [x for x in numeric_cols if 'logFC' in x]\n",
    "\n",
    "control_3h_cols = ['sample.'+str(x) for x in range(1,5)]\n",
    "control_12h_cols = ['sample.'+str(x) for x in range(5,9)]\n",
    "CC_3h_cols = ['sample.'+str(x) for x in range(9,13)]\n",
    "CC_12h_cols = ['sample.'+str(x) for x in range(13,17)]\n",
    "BL21_3h_cols = ['sample.'+str(x) for x in range(17,21)]\n",
    "BL21_3h_bcols = ['sample.'+str(x) for x in range(21,25)]\n",
    "LPS_3h_cols = ['sample.'+str(x) for x in range(25,29)]\n",
    "LPS_12h_cols = ['sample.'+str(x) for x in range(29,33)]\n",
    "\n",
    "# Associate fold column name with p-value column name\n",
    "adj_p_value_columns = {\n",
    "    'BL21_12hr-BL21_3hr_logFC': 'BL21_12hr-BL21_3hr_adj.P.Val',\n",
    "    'BL21_12hr-control_12hr_logFC': 'BL21_12hr-BL21_3hr_adj.P.Val',\n",
    "    'BL21_3hr-control_3hr_logFC': 'BL21_3hr-control_3hr_adj.P.Val',\n",
    "    'CC_12hr-CC_3hr_logFC': 'CC_12hr-CC_3hr_adj.P.Val',\n",
    "    'CC_12hr-control_12hr_logFC':'CC_12hr-control_12hr_adj.P.Val',\n",
    "    'CC_3hr-control_3hr_logFC':'CC_3hr-control_3hr_adj.P.Val',\n",
    "    'control_12hr-control_3hr_logFC':'control_12hr-control_3hr_adj.P.Val',\n",
    "    'LPS_12hr-control_12hr_logFC':'LPS_12hr-control_12hr_adj.P.Val',\n",
    "    'LPS_12hr-LPS_3hr_logFC':'LPS_12hr-LPS_3hr_adj.P.Val',\n",
    "    'LPS_3hr-control_3hr_logFC':'LPS_3hr-control_3hr_adj.P.Val'\n",
    "}"
   ]
  },
  {
   "cell_type": "markdown",
   "id": "44de036b",
   "metadata": {},
   "source": [
    "### Selecting data"
   ]
  },
  {
   "cell_type": "code",
   "execution_count": 4,
   "id": "cce105d8",
   "metadata": {},
   "outputs": [],
   "source": [
    "# Change this value to the column of interest; at the moment, it must be one of the columns storing the fold changes,\n",
    "# e.g.: control_12hr-control_3hr_logFC\n",
    "data_column_name = 'CC_3hr-control_3hr_logFC'\n",
    "pval_column_name = adj_p_value_columns[data_column_name]\n",
    "\n",
    "# Select only significant p-values (rows for which p-value is less than a threshold, e.g.: p<0.01)\n",
    "data = dex[dex[pval_column_name]<0.05]\n",
    "\n",
    "# Select only LogFC values which are <=-1 or >=1\n",
    "# data = dex[(dex[data_column_name]<=-1) | (dex[data_column_name]>=1)]\n",
    "\n",
    "# get rid of all columns we are not interested in right now\n",
    "#data = data[['external_gene_name', data_column_name]]\n",
    "data = data[['Feature_ID', data_column_name]]"
   ]
  },
  {
   "cell_type": "code",
   "execution_count": 5,
   "id": "979f1c97",
   "metadata": {},
   "outputs": [],
   "source": [
    "# Now sort rows by ascending expression value\n",
    "data = data.sort_values(\n",
    "    by=data_column_name,\n",
    "    ascending=False\n",
    "    )"
   ]
  },
  {
   "cell_type": "code",
   "execution_count": null,
   "id": "bdb90e68",
   "metadata": {},
   "outputs": [],
   "source": [
    "#data.to_csv('../data/'+data_column_name+'.rnk', index=False, sep='\\t', header=['geneID', 'logFC'])\n",
    "data.to_csv('../data/'+data_column_name+'.rnk', index=False, sep='\\t', header=False)"
   ]
  },
  {
   "cell_type": "code",
   "execution_count": 6,
   "id": "698be6e7",
   "metadata": {},
   "outputs": [
    {
     "data": {
      "text/html": [
       "<div>\n",
       "<style scoped>\n",
       "    .dataframe tbody tr th:only-of-type {\n",
       "        vertical-align: middle;\n",
       "    }\n",
       "\n",
       "    .dataframe tbody tr th {\n",
       "        vertical-align: top;\n",
       "    }\n",
       "\n",
       "    .dataframe thead th {\n",
       "        text-align: right;\n",
       "    }\n",
       "</style>\n",
       "<table border=\"1\" class=\"dataframe\">\n",
       "  <thead>\n",
       "    <tr style=\"text-align: right;\">\n",
       "      <th></th>\n",
       "      <th>CC_3hr-control_3hr_logFC</th>\n",
       "    </tr>\n",
       "  </thead>\n",
       "  <tbody>\n",
       "    <tr>\n",
       "      <th>count</th>\n",
       "      <td>121.000000</td>\n",
       "    </tr>\n",
       "    <tr>\n",
       "      <th>mean</th>\n",
       "      <td>0.001413</td>\n",
       "    </tr>\n",
       "    <tr>\n",
       "      <th>std</th>\n",
       "      <td>0.394483</td>\n",
       "    </tr>\n",
       "    <tr>\n",
       "      <th>min</th>\n",
       "      <td>-0.860053</td>\n",
       "    </tr>\n",
       "    <tr>\n",
       "      <th>25%</th>\n",
       "      <td>-0.284765</td>\n",
       "    </tr>\n",
       "    <tr>\n",
       "      <th>50%</th>\n",
       "      <td>-0.182841</td>\n",
       "    </tr>\n",
       "    <tr>\n",
       "      <th>75%</th>\n",
       "      <td>0.251556</td>\n",
       "    </tr>\n",
       "    <tr>\n",
       "      <th>max</th>\n",
       "      <td>1.571771</td>\n",
       "    </tr>\n",
       "  </tbody>\n",
       "</table>\n",
       "</div>"
      ],
      "text/plain": [
       "       CC_3hr-control_3hr_logFC\n",
       "count                121.000000\n",
       "mean                   0.001413\n",
       "std                    0.394483\n",
       "min                   -0.860053\n",
       "25%                   -0.284765\n",
       "50%                   -0.182841\n",
       "75%                    0.251556\n",
       "max                    1.571771"
      ]
     },
     "execution_count": 6,
     "metadata": {},
     "output_type": "execute_result"
    }
   ],
   "source": [
    "data.describe()"
   ]
  },
  {
   "cell_type": "code",
   "execution_count": null,
   "id": "59dce46a",
   "metadata": {},
   "outputs": [],
   "source": []
  }
 ],
 "metadata": {
  "kernelspec": {
   "display_name": "Python 3",
   "language": "python",
   "name": "python3"
  },
  "language_info": {
   "codemirror_mode": {
    "name": "ipython",
    "version": 3
   },
   "file_extension": ".py",
   "mimetype": "text/x-python",
   "name": "python",
   "nbconvert_exporter": "python",
   "pygments_lexer": "ipython3",
   "version": "3.8.10"
  }
 },
 "nbformat": 4,
 "nbformat_minor": 5
}