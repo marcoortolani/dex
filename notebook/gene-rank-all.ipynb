{
 "cells": [
  {
   "cell_type": "markdown",
   "id": "b11f4c50",
   "metadata": {},
   "source": [
    "# Differential Expression Analysis\n",
    "\n",
    "This notebook is a first attempt to automate differential gene expression analysis with Python. \n",
    "\n",
    "Gene expression data are read from the .tsv file and imported into Python data structures so that we can select \"interesting\" genes to submit to Enrichr for enrichment analysis.\n",
    "\n",
    "We'll follow these steps:\n",
    "1. Filter the most significant genes (p<0.01)\n",
    "2. Filter Log2FC (Less/equal to -1 or greater/equal to 1)\n",
    "3. Clean up data and maintain only Entrez and Ensemble ID, Log2 FC, p.value cols\n",
    "4. Rank the genes (largest to  smallest using Log2FC)\n",
    "5. Paste results on Enrichr"
   ]
  },
  {
   "cell_type": "code",
   "execution_count": 1,
   "id": "817a4e32",
   "metadata": {},
   "outputs": [
    {
     "name": "stdout",
     "output_type": "stream",
     "text": [
      "Creating directory /Users/marco/Library/Application Support/bioservices \n"
     ]
    }
   ],
   "source": [
    "# Import necessary Python libraries\n",
    "\n",
    "# Data analysis\n",
    "import numpy as np\n",
    "import pandas as pd\n",
    "\n",
    "# Bioinformatics\n",
    "import gseapy as gp\n",
    "\n",
    "# Graphics and plotting\n",
    "import matplotlib.pyplot as plt\n",
    "%matplotlib inline\n",
    "%config InlineBackend.figure_format='retina' # mac\n",
    "%load_ext autoreload\n",
    "%autoreload 2\n",
    "\n",
    "#import seaborn as sns"
   ]
  },
  {
   "cell_type": "markdown",
   "id": "64a44437",
   "metadata": {},
   "source": [
    "## Data preparation"
   ]
  },
  {
   "cell_type": "code",
   "execution_count": 2,
   "id": "96b32700",
   "metadata": {},
   "outputs": [],
   "source": [
    "# Reading in data from tsv file (the \"Feature ID\" column will be used as id)\n",
    "\n",
    "filename = '../data/Merged_differential_expression_results.tsv'\n",
    "\n",
    "#dex = pd.read_csv(filename, index_col=0, sep='\\t')\n",
    "dex = pd.read_csv(filename, dtype={'entrezgene': str}, sep='\\t')"
   ]
  },
  {
   "cell_type": "code",
   "execution_count": 3,
   "id": "2106e7bb",
   "metadata": {},
   "outputs": [],
   "source": [
    "# Separate the columns into strings (all gene names, descriptions, ...) and numeric (gene expressions, fold changes, and quality metrics)\n",
    "all_cols = list(dex.columns)\n",
    "descr_cols = ['Feature_ID', 'entrezgene', 'external_gene_name', 'gene_biotype', 'external_gene_source', 'description']\n",
    "numeric_cols = [x for x in all_cols if x not in set(descr_cols)]\n",
    "\n",
    "# The select samples, fold metrics\n",
    "sample_cols = [x for x in numeric_cols if 'sample' in x]\n",
    "linfold_cols = [x for x in numeric_cols if 'linearFC' in x]\n",
    "logfold_cols = [x for x in numeric_cols if 'logFC' in x]\n",
    "\n",
    "control_3h_cols = ['sample.'+str(x) for x in range(1,5)]\n",
    "control_12h_cols = ['sample.'+str(x) for x in range(5,9)]\n",
    "CC_3h_cols = ['sample.'+str(x) for x in range(9,13)]\n",
    "CC_12h_cols = ['sample.'+str(x) for x in range(13,17)]\n",
    "BL21_3h_cols = ['sample.'+str(x) for x in range(17,21)]\n",
    "BL21_3h_bcols = ['sample.'+str(x) for x in range(21,25)]\n",
    "LPS_3h_cols = ['sample.'+str(x) for x in range(25,29)]\n",
    "LPS_21h_cols = ['sample.'+str(x) for x in range(29,33)]\n",
    "\n",
    "# Associate fold column name with p-value column name\n",
    "adj_p_value_columns = {\n",
    "    'BL21_12hr-BL21_3hr_logFC': 'BL21_12hr-BL21_3hr_adj.P.Val',\n",
    "    'BL21_12hr-control_12hr_logFC': 'BL21_12hr-BL21_3hr_adj.P.Val',\n",
    "    'BL21_3hr-control_3hr_logFC': 'BL21_3hr-control_3hr_adj.P.Val',\n",
    "    'CC_12hr-CC_3hr_logFC': 'CC_12hr-CC_3hr_adj.P.Val',\n",
    "    'CC_12hr-control_12hr_logFC':'CC_12hr-control_12hr_adj.P.Val',\n",
    "    'CC_3hr-control_3hr_logFC':'CC_3hr-control_3hr_adj.P.Val',\n",
    "    'control_12hr-control_3hr_logFC':'control_12hr-control_3hr_adj.P.Val',\n",
    "    'LPS_12hr-control_12hr_logFC':'LPS_12hr-control_12hr_adj.P.Val',\n",
    "    'LPS_12hr-LPS_3hr_logFC':'LPS_12hr-LPS_3hr_adj.P.Val',\n",
    "    'LPS_3hr-control_3hr_logFC':'LPS_3hr-control_3hr_adj.P.Val'\n",
    "}"
   ]
  },
  {
   "cell_type": "markdown",
   "id": "44de036b",
   "metadata": {},
   "source": [
    "### Producing ranking files for all experiments data"
   ]
  },
  {
   "cell_type": "code",
   "execution_count": 4,
   "id": "d5ed3acf",
   "metadata": {},
   "outputs": [],
   "source": [
    "# Thresholds for selecting the relevant rows\n",
    "\n",
    "# CHANGE VALUES HERE AS NEEDED (then re-run: Cell -> Run all)\n",
    "pValThreshold = 0.05\n",
    "logFCThreshold = 0.5\n",
    "\n",
    "# Uncomment the line corresponding to the gene name you'd like in the output (and comment the others)\n",
    "#geneCol = 'external_gene_name'\n",
    "#geneCol = 'Feature_ID'\n",
    "geneCol = 'entrezgene'"
   ]
  },
  {
   "cell_type": "code",
   "execution_count": 5,
   "id": "2c409eab",
   "metadata": {
    "scrolled": true
   },
   "outputs": [
    {
     "name": "stdout",
     "output_type": "stream",
     "text": [
      "Selecting only significant experiments with adj p-val < 0.05 - |logFC| <= 0.5\n",
      "BL21_12hr-BL21_3hr_logFC       :   5819 (after p-val) -   2502 (after LogFC)\n"
     ]
    },
    {
     "ename": "FileNotFoundError",
     "evalue": "[Errno 2] No such file or directory: '../results/BL21_12hr-BL21_3hr_logFC-v1.rnk'",
     "output_type": "error",
     "traceback": [
      "\u001b[0;31m---------------------------------------------------------------------------\u001b[0m",
      "\u001b[0;31mFileNotFoundError\u001b[0m                         Traceback (most recent call last)",
      "\u001b[0;32m<ipython-input-5-475afa24f239>\u001b[0m in \u001b[0;36m<module>\u001b[0;34m\u001b[0m\n\u001b[1;32m     26\u001b[0m         )\n\u001b[1;32m     27\u001b[0m \u001b[0;34m\u001b[0m\u001b[0m\n\u001b[0;32m---> 28\u001b[0;31m     \u001b[0mdata1\u001b[0m\u001b[0;34m.\u001b[0m\u001b[0mto_csv\u001b[0m\u001b[0;34m(\u001b[0m\u001b[0;34m'../results/'\u001b[0m\u001b[0;34m+\u001b[0m\u001b[0mdata_column_name\u001b[0m\u001b[0;34m+\u001b[0m\u001b[0;34m'-v1.rnk'\u001b[0m\u001b[0;34m,\u001b[0m \u001b[0mindex\u001b[0m\u001b[0;34m=\u001b[0m\u001b[0;32mFalse\u001b[0m\u001b[0;34m,\u001b[0m \u001b[0msep\u001b[0m\u001b[0;34m=\u001b[0m\u001b[0;34m'\\t'\u001b[0m\u001b[0;34m,\u001b[0m \u001b[0mheader\u001b[0m\u001b[0;34m=\u001b[0m\u001b[0;32mFalse\u001b[0m\u001b[0;34m)\u001b[0m\u001b[0;34m\u001b[0m\u001b[0;34m\u001b[0m\u001b[0m\n\u001b[0m\u001b[1;32m     29\u001b[0m     \u001b[0mdata2\u001b[0m\u001b[0;34m.\u001b[0m\u001b[0mto_csv\u001b[0m\u001b[0;34m(\u001b[0m\u001b[0;34m'../results/'\u001b[0m\u001b[0;34m+\u001b[0m\u001b[0mdata_column_name\u001b[0m\u001b[0;34m+\u001b[0m\u001b[0;34m'-v2.rnk'\u001b[0m\u001b[0;34m,\u001b[0m \u001b[0mindex\u001b[0m\u001b[0;34m=\u001b[0m\u001b[0;32mFalse\u001b[0m\u001b[0;34m,\u001b[0m \u001b[0msep\u001b[0m\u001b[0;34m=\u001b[0m\u001b[0;34m'\\t'\u001b[0m\u001b[0;34m,\u001b[0m \u001b[0mheader\u001b[0m\u001b[0;34m=\u001b[0m\u001b[0;32mFalse\u001b[0m\u001b[0;34m)\u001b[0m\u001b[0;34m\u001b[0m\u001b[0;34m\u001b[0m\u001b[0m\n\u001b[1;32m     30\u001b[0m \u001b[0;34m\u001b[0m\u001b[0m\n",
      "\u001b[0;32m~/opt/miniconda3/envs/bioinformatics/lib/python3.8/site-packages/pandas/core/generic.py\u001b[0m in \u001b[0;36mto_csv\u001b[0;34m(self, path_or_buf, sep, na_rep, float_format, columns, header, index, index_label, mode, encoding, compression, quoting, quotechar, line_terminator, chunksize, date_format, doublequote, escapechar, decimal, errors, storage_options)\u001b[0m\n\u001b[1;32m   3385\u001b[0m         )\n\u001b[1;32m   3386\u001b[0m \u001b[0;34m\u001b[0m\u001b[0m\n\u001b[0;32m-> 3387\u001b[0;31m         return DataFrameRenderer(formatter).to_csv(\n\u001b[0m\u001b[1;32m   3388\u001b[0m             \u001b[0mpath_or_buf\u001b[0m\u001b[0;34m,\u001b[0m\u001b[0;34m\u001b[0m\u001b[0;34m\u001b[0m\u001b[0m\n\u001b[1;32m   3389\u001b[0m             \u001b[0mline_terminator\u001b[0m\u001b[0;34m=\u001b[0m\u001b[0mline_terminator\u001b[0m\u001b[0;34m,\u001b[0m\u001b[0;34m\u001b[0m\u001b[0;34m\u001b[0m\u001b[0m\n",
      "\u001b[0;32m~/opt/miniconda3/envs/bioinformatics/lib/python3.8/site-packages/pandas/io/formats/format.py\u001b[0m in \u001b[0;36mto_csv\u001b[0;34m(self, path_or_buf, encoding, sep, columns, index_label, mode, compression, quoting, quotechar, line_terminator, chunksize, date_format, doublequote, escapechar, errors, storage_options)\u001b[0m\n\u001b[1;32m   1081\u001b[0m             \u001b[0mformatter\u001b[0m\u001b[0;34m=\u001b[0m\u001b[0mself\u001b[0m\u001b[0;34m.\u001b[0m\u001b[0mfmt\u001b[0m\u001b[0;34m,\u001b[0m\u001b[0;34m\u001b[0m\u001b[0;34m\u001b[0m\u001b[0m\n\u001b[1;32m   1082\u001b[0m         )\n\u001b[0;32m-> 1083\u001b[0;31m         \u001b[0mcsv_formatter\u001b[0m\u001b[0;34m.\u001b[0m\u001b[0msave\u001b[0m\u001b[0;34m(\u001b[0m\u001b[0;34m)\u001b[0m\u001b[0;34m\u001b[0m\u001b[0;34m\u001b[0m\u001b[0m\n\u001b[0m\u001b[1;32m   1084\u001b[0m \u001b[0;34m\u001b[0m\u001b[0m\n\u001b[1;32m   1085\u001b[0m         \u001b[0;32mif\u001b[0m \u001b[0mcreated_buffer\u001b[0m\u001b[0;34m:\u001b[0m\u001b[0;34m\u001b[0m\u001b[0;34m\u001b[0m\u001b[0m\n",
      "\u001b[0;32m~/opt/miniconda3/envs/bioinformatics/lib/python3.8/site-packages/pandas/io/formats/csvs.py\u001b[0m in \u001b[0;36msave\u001b[0;34m(self)\u001b[0m\n\u001b[1;32m    226\u001b[0m         \"\"\"\n\u001b[1;32m    227\u001b[0m         \u001b[0;31m# apply compression and byte/text conversion\u001b[0m\u001b[0;34m\u001b[0m\u001b[0;34m\u001b[0m\u001b[0;34m\u001b[0m\u001b[0m\n\u001b[0;32m--> 228\u001b[0;31m         with get_handle(\n\u001b[0m\u001b[1;32m    229\u001b[0m             \u001b[0mself\u001b[0m\u001b[0;34m.\u001b[0m\u001b[0mfilepath_or_buffer\u001b[0m\u001b[0;34m,\u001b[0m\u001b[0;34m\u001b[0m\u001b[0;34m\u001b[0m\u001b[0m\n\u001b[1;32m    230\u001b[0m             \u001b[0mself\u001b[0m\u001b[0;34m.\u001b[0m\u001b[0mmode\u001b[0m\u001b[0;34m,\u001b[0m\u001b[0;34m\u001b[0m\u001b[0;34m\u001b[0m\u001b[0m\n",
      "\u001b[0;32m~/opt/miniconda3/envs/bioinformatics/lib/python3.8/site-packages/pandas/io/common.py\u001b[0m in \u001b[0;36mget_handle\u001b[0;34m(path_or_buf, mode, encoding, compression, memory_map, is_text, errors, storage_options)\u001b[0m\n\u001b[1;32m    640\u001b[0m                 \u001b[0merrors\u001b[0m \u001b[0;34m=\u001b[0m \u001b[0;34m\"replace\"\u001b[0m\u001b[0;34m\u001b[0m\u001b[0;34m\u001b[0m\u001b[0m\n\u001b[1;32m    641\u001b[0m             \u001b[0;31m# Encoding\u001b[0m\u001b[0;34m\u001b[0m\u001b[0;34m\u001b[0m\u001b[0;34m\u001b[0m\u001b[0m\n\u001b[0;32m--> 642\u001b[0;31m             handle = open(\n\u001b[0m\u001b[1;32m    643\u001b[0m                 \u001b[0mhandle\u001b[0m\u001b[0;34m,\u001b[0m\u001b[0;34m\u001b[0m\u001b[0;34m\u001b[0m\u001b[0m\n\u001b[1;32m    644\u001b[0m                 \u001b[0mioargs\u001b[0m\u001b[0;34m.\u001b[0m\u001b[0mmode\u001b[0m\u001b[0;34m,\u001b[0m\u001b[0;34m\u001b[0m\u001b[0;34m\u001b[0m\u001b[0m\n",
      "\u001b[0;31mFileNotFoundError\u001b[0m: [Errno 2] No such file or directory: '../results/BL21_12hr-BL21_3hr_logFC-v1.rnk'"
     ]
    }
   ],
   "source": [
    "print(\"Selecting only significant experiments with adj p-val < \" + str(pValThreshold) + \" - |logFC| <= \" +str(logFCThreshold))\n",
    "for data_column_name in logfold_cols:\n",
    "    pval_column_name = adj_p_value_columns[data_column_name]\n",
    "\n",
    "    \n",
    "    # Select only significant p-values (rows for which p-value is less than a threshold, e.g.: p<0.01)\n",
    "    data1 = dex[dex[pval_column_name]<pValThreshold]\n",
    "    \n",
    "    count1 = data1.shape[0]\n",
    "\n",
    "    # Select only LogFC values which are <=-logFCThreshold or >=logFCThreshold (e.g.: |logFC| <= 1 )\n",
    "    data2 = data1[(data1[data_column_name]<=-logFCThreshold) | (data1[data_column_name]>=logFCThreshold)]\n",
    "\n",
    "    count2 = data2.shape[0]\n",
    "\n",
    "    print(f'{data_column_name:<30} : {str(count1):>6} (after p-val) - {str(count2):>6} (after LogFC)')\n",
    "\n",
    "    # get rid of all columns we are not interested in right now\n",
    "    data1 = data1[[geneCol, data_column_name]]\n",
    "    data2 = data2[[geneCol, data_column_name]]\n",
    "\n",
    "    # Now sort rows by ascending expression value\n",
    "    data1 = data1.sort_values(\n",
    "        by=data_column_name,\n",
    "        ascending=False\n",
    "        )\n",
    "    \n",
    "    data1.to_csv('../results/'+data_column_name+'-v1.rnk', index=False, sep='\\t', header=False)    \n",
    "    data2.to_csv('../results/'+data_column_name+'-v2.rnk', index=False, sep='\\t', header=False)\n",
    "\n",
    "print()\n",
    "print(\"Saved all files: v1 is with pVal threshold only; v2 with pVal and LogFC thresholds\")"
   ]
  },
  {
   "cell_type": "markdown",
   "id": "e4ccf6aa",
   "metadata": {},
   "source": [
    "You can find all results in the `data` folder (accessible via `File -> Open` then `../results`)"
   ]
  },
  {
   "cell_type": "code",
   "execution_count": null,
   "id": "51b647f2",
   "metadata": {},
   "outputs": [],
   "source": []
  }
 ],
 "metadata": {
  "kernelspec": {
   "display_name": "Python 3",
   "language": "python",
   "name": "python3"
  },
  "language_info": {
   "codemirror_mode": {
    "name": "ipython",
    "version": 3
   },
   "file_extension": ".py",
   "mimetype": "text/x-python",
   "name": "python",
   "nbconvert_exporter": "python",
   "pygments_lexer": "ipython3",
   "version": "3.8.10"
  }
 },
 "nbformat": 4,
 "nbformat_minor": 5
}
