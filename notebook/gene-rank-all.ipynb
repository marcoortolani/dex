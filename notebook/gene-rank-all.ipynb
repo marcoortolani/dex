{
 "cells": [
  {
   "cell_type": "markdown",
   "id": "b11f4c50",
   "metadata": {},
   "source": [
    "# Differential Expression Analysis\n",
    "\n",
    "This notebook is a first attempt to automate differential gene expression analysis with Python. \n",
    "\n",
    "Gene expression data are read from the .tsv file and imported into Python data structures so that we can select \"interesting\" genes to submit to Enrichr for enrichment analysis.\n",
    "\n",
    "We'll follow these steps:\n",
    "1. Filter the most significant genes (p<0.01)\n",
    "2. Filter Log2FC (Less/equal to -1 or greater/equal to 1)\n",
    "3. Clean up data and maintain only Entrez and Ensemble ID, Log2 FC, p.value cols\n",
    "4. Rank the genes (largest to  smallest using Log2FC)\n",
    "5. Paste results on Enrichr"
   ]
  },
  {
   "cell_type": "code",
   "execution_count": 10,
   "id": "817a4e32",
   "metadata": {},
   "outputs": [
    {
     "name": "stdout",
     "output_type": "stream",
     "text": [
      "The autoreload extension is already loaded. To reload it, use:\n",
      "  %reload_ext autoreload\n"
     ]
    }
   ],
   "source": [
    "# Import necessary Python libraries\n",
    "\n",
    "# Data analysis\n",
    "import numpy as np\n",
    "import pandas as pd\n",
    "\n",
    "# Bioinformatics\n",
    "import gseapy as gp\n",
    "\n",
    "# Graphics and plotting\n",
    "import matplotlib.pyplot as plt\n",
    "%matplotlib inline\n",
    "%config InlineBackend.figure_format='retina' # mac\n",
    "%load_ext autoreload\n",
    "%autoreload 2\n",
    "\n",
    "#import seaborn as sns"
   ]
  },
  {
   "cell_type": "markdown",
   "id": "64a44437",
   "metadata": {},
   "source": [
    "## Data preparation"
   ]
  },
  {
   "cell_type": "code",
   "execution_count": 11,
   "id": "96b32700",
   "metadata": {},
   "outputs": [],
   "source": [
    "# Reading in data from tsv file (the \"Feature ID\" column will be used as id)\n",
    "\n",
    "filename = '../data/Merged_differential_expression_results.tsv'\n",
    "\n",
    "dex = pd.read_csv(filename, index_col=0, sep='\\t')"
   ]
  },
  {
   "cell_type": "code",
   "execution_count": 12,
   "id": "2106e7bb",
   "metadata": {},
   "outputs": [],
   "source": [
    "# Separate the columns into strings (all gene names, descriptions, ...) and numeric (gene expressions, fold changes, and quality metrics)\n",
    "all_cols = list(dex.columns)\n",
    "descr_cols = ['Feature_ID', 'entrezgene', 'external_gene_name', 'gene_biotype', 'external_gene_source', 'description']\n",
    "numeric_cols = [x for x in all_cols if x not in set(descr_cols)]\n",
    "\n",
    "# The select samples, fold metrics\n",
    "sample_cols = [x for x in numeric_cols if 'sample' in x]\n",
    "linfold_cols = [x for x in numeric_cols if 'linearFC' in x]\n",
    "logfold_cols = [x for x in numeric_cols if 'logFC' in x]\n",
    "\n",
    "control_3h_cols = ['sample.'+str(x) for x in range(1,5)]\n",
    "control_12h_cols = ['sample.'+str(x) for x in range(5,9)]\n",
    "CC_3h_cols = ['sample.'+str(x) for x in range(9,13)]\n",
    "CC_12h_cols = ['sample.'+str(x) for x in range(13,17)]\n",
    "BL21_3h_cols = ['sample.'+str(x) for x in range(17,21)]\n",
    "BL21_3h_bcols = ['sample.'+str(x) for x in range(21,25)]\n",
    "LPS_3h_cols = ['sample.'+str(x) for x in range(25,29)]\n",
    "LPS_21h_cols = ['sample.'+str(x) for x in range(29,33)]\n",
    "\n",
    "# Associate fold column name with p-value column name\n",
    "adj_p_value_columns = {\n",
    "    'BL21_12hr-BL21_3hr_logFC': 'BL21_12hr-BL21_3hr_adj.P.Val',\n",
    "    'BL21_12hr-control_12hr_logFC': 'BL21_12hr-BL21_3hr_adj.P.Val',\n",
    "    'BL21_3hr-control_3hr_logFC': 'BL21_3hr-control_3hr_adj.P.Val',\n",
    "    'CC_12hr-CC_3hr_logFC': 'CC_12hr-CC_3hr_adj.P.Val',\n",
    "    'CC_12hr-control_12hr_logFC':'CC_12hr-control_12hr_adj.P.Val',\n",
    "    'CC_3hr-control_3hr_logFC':'CC_3hr-control_3hr_adj.P.Val',\n",
    "    'control_12hr-control_3hr_logFC':'control_12hr-control_3hr_adj.P.Val',\n",
    "    'LPS_12hr-control_12hr_logFC':'LPS_12hr-control_12hr_adj.P.Val',\n",
    "    'LPS_12hr-LPS_3hr_logFC':'LPS_12hr-LPS_3hr_adj.P.Val',\n",
    "    'LPS_3hr-control_3hr_logFC':'LPS_3hr-control_3hr_adj.P.Val'\n",
    "}"
   ]
  },
  {
   "cell_type": "markdown",
   "id": "44de036b",
   "metadata": {},
   "source": [
    "### Producing ranking files for all experiments data"
   ]
  },
  {
   "cell_type": "code",
   "execution_count": 13,
   "id": "d5ed3acf",
   "metadata": {},
   "outputs": [],
   "source": [
    "# Thresholds for selecting the relevant rows\n",
    "\n",
    "# CHANGE VALUES HERE AS NEEDED (then re-run: Cell -> Run all)\n",
    "pValThreshold = 0.05\n",
    "logFCThreshold = 0.5"
   ]
  },
  {
   "cell_type": "code",
   "execution_count": 14,
   "id": "2c409eab",
   "metadata": {
    "scrolled": true
   },
   "outputs": [
    {
     "name": "stdout",
     "output_type": "stream",
     "text": [
      "Selecting only significant experiments with adj p-val < 0.05|logFC| <= 0.5\n",
      "BL21_12hr-BL21_3hr_logFC       :   5819 (after p-val) -   2502 (after LogFC)\n",
      "BL21_12hr-control_12hr_logFC   :   5819 (after p-val) -   1018 (after LogFC)\n",
      "BL21_3hr-control_3hr_logFC     :   2440 (after p-val) -    969 (after LogFC)\n",
      "CC_12hr-CC_3hr_logFC           :   5932 (after p-val) -   2018 (after LogFC)\n",
      "CC_12hr-control_12hr_logFC     :    665 (after p-val) -    116 (after LogFC)\n",
      "CC_3hr-control_3hr_logFC       :    121 (after p-val) -     13 (after LogFC)\n",
      "control_12hr-control_3hr_logFC :   4853 (after p-val) -   1671 (after LogFC)\n",
      "LPS_12hr-control_12hr_logFC    :   3227 (after p-val) -    820 (after LogFC)\n",
      "LPS_12hr-LPS_3hr_logFC         :   5969 (after p-val) -   2515 (after LogFC)\n",
      "LPS_3hr-control_3hr_logFC      :   3060 (after p-val) -    723 (after LogFC)\n",
      "Saved all files: v1 is with pVal threshold only; v2 with pVal and LogFC thresholds\n"
     ]
    }
   ],
   "source": [
    "print(\"Selecting only significant experiments with adj p-val < \" + str(pValThreshold) + \" - |logFC| <= \" +str(logFCThreshold))\n",
    "for data_column_name in logfold_cols:\n",
    "    pval_column_name = adj_p_value_columns[data_column_name]\n",
    "\n",
    "    \n",
    "    # Select only significant p-values (rows for which p-value is less than a threshold, e.g.: p<0.01)\n",
    "    data1 = dex[dex[pval_column_name]<pValThreshold]\n",
    "    \n",
    "    count1 = data1.shape[0]\n",
    "\n",
    "    # Select only LogFC values which are <=-logFCThreshold or >=logFCThreshold (e.g.: |logFC| <= 1 )\n",
    "    data2 = data1[(data1[data_column_name]<=-logFCThreshold) | (data1[data_column_name]>=logFCThreshold)]\n",
    "\n",
    "    count2 = data2.shape[0]\n",
    "\n",
    "    print(f'{data_column_name:<30} : {str(count1):>6} (after p-val) - {str(count2):>6} (after LogFC)')\n",
    "\n",
    "    # get rid of all columns we are not interested in right now\n",
    "    data1 = data1[['external_gene_name', data_column_name]]\n",
    "    data2 = data2[['external_gene_name', data_column_name]]\n",
    "\n",
    "\n",
    "    # Now sort rows by ascending expression value\n",
    "    data1 = data1.sort_values(\n",
    "        by=data_column_name,\n",
    "        ascending=False\n",
    "        )\n",
    "    \n",
    "    data1.to_csv('../results/'+data_column_name+'-v1.rnk', index=False, sep='\\t', header=False)    \n",
    "    data2.to_csv('../results/'+data_column_name+'-v2.rnk', index=False, sep='\\t', header=False)\n",
    "    \n",
    "print(\"Saved all files: v1 is with pVal threshold only; v2 with pVal and LogFC thresholds\")"
   ]
  },
  {
   "cell_type": "markdown",
   "id": "e4ccf6aa",
   "metadata": {},
   "source": [
    "You can find all results in the `data` folder (accessible via `File -> Open` then `../results`)"
   ]
  },
  {
   "cell_type": "code",
   "execution_count": null,
   "id": "51b647f2",
   "metadata": {},
   "outputs": [],
   "source": []
  }
 ],
 "metadata": {
  "kernelspec": {
   "display_name": "Python 3",
   "language": "python",
   "name": "python3"
  },
  "language_info": {
   "codemirror_mode": {
    "name": "ipython",
    "version": 3
   },
   "file_extension": ".py",
   "mimetype": "text/x-python",
   "name": "python",
   "nbconvert_exporter": "python",
   "pygments_lexer": "ipython3",
   "version": "3.8.10"
  }
 },
 "nbformat": 4,
 "nbformat_minor": 5
}
